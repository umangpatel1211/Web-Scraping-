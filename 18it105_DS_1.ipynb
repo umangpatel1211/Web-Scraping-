{
 "cells": [
  {
   "cell_type": "code",
   "execution_count": 1,
   "id": "857ac60c",
   "metadata": {},
   "outputs": [
    {
     "name": "stdout",
     "output_type": "stream",
     "text": [
      "Requirement already satisfied: pandas in c:\\programdata\\anaconda3\\lib\\site-packages (1.2.4)Note: you may need to restart the kernel to use updated packages.\n",
      "\n",
      "Requirement already satisfied: python-dateutil>=2.7.3 in c:\\programdata\\anaconda3\\lib\\site-packages (from pandas) (2.8.1)\n",
      "Requirement already satisfied: pytz>=2017.3 in c:\\programdata\\anaconda3\\lib\\site-packages (from pandas) (2021.1)\n",
      "Requirement already satisfied: numpy>=1.16.5 in c:\\programdata\\anaconda3\\lib\\site-packages (from pandas) (1.20.1)\n",
      "Requirement already satisfied: six>=1.5 in c:\\programdata\\anaconda3\\lib\\site-packages (from python-dateutil>=2.7.3->pandas) (1.15.0)\n"
     ]
    }
   ],
   "source": [
    "pip install pandas"
   ]
  },
  {
   "cell_type": "code",
   "execution_count": 2,
   "id": "f3b0ab28",
   "metadata": {},
   "outputs": [
    {
     "name": "stdout",
     "output_type": "stream",
     "text": [
      "Requirement already satisfied: requests in c:\\programdata\\anaconda3\\lib\\site-packages (2.25.1)Note: you may need to restart the kernel to use updated packages.\n",
      "Requirement already satisfied: certifi>=2017.4.17 in c:\\programdata\\anaconda3\\lib\\site-packages (from requests) (2020.12.5)\n",
      "Requirement already satisfied: chardet<5,>=3.0.2 in c:\\programdata\\anaconda3\\lib\\site-packages (from requests) (4.0.0)\n",
      "Requirement already satisfied: urllib3<1.27,>=1.21.1 in c:\\programdata\\anaconda3\\lib\\site-packages (from requests) (1.26.4)\n",
      "Requirement already satisfied: idna<3,>=2.5 in c:\\programdata\\anaconda3\\lib\\site-packages (from requests) (2.10)\n",
      "\n"
     ]
    }
   ],
   "source": [
    "pip install requests"
   ]
  },
  {
   "cell_type": "code",
   "execution_count": 3,
   "id": "c5bbab84",
   "metadata": {},
   "outputs": [
    {
     "name": "stdout",
     "output_type": "stream",
     "text": [
      "Collecting bs4Note: you may need to restart the kernel to use updated packages.\n",
      "\n",
      "  Downloading bs4-0.0.1.tar.gz (1.1 kB)\n",
      "Requirement already satisfied: beautifulsoup4 in c:\\programdata\\anaconda3\\lib\\site-packages (from bs4) (4.9.3)\n",
      "Requirement already satisfied: soupsieve>1.2 in c:\\programdata\\anaconda3\\lib\\site-packages (from beautifulsoup4->bs4) (2.2.1)\n",
      "Building wheels for collected packages: bs4\n",
      "  Building wheel for bs4 (setup.py): started\n",
      "  Building wheel for bs4 (setup.py): finished with status 'done'\n",
      "  Created wheel for bs4: filename=bs4-0.0.1-py3-none-any.whl size=1273 sha256=cb8ac873034c9ec3e12aea86bc1d15b706a85fa33ef19b2fec4caf9789f76029\n",
      "  Stored in directory: c:\\users\\owner\\appdata\\local\\pip\\cache\\wheels\\75\\78\\21\\68b124549c9bdc94f822c02fb9aa3578a669843f9767776bca\n",
      "Successfully built bs4\n",
      "Installing collected packages: bs4\n",
      "Successfully installed bs4-0.0.1\n"
     ]
    }
   ],
   "source": [
    "pip install bs4"
   ]
  },
  {
   "cell_type": "code",
   "execution_count": 4,
   "id": "b699d217",
   "metadata": {},
   "outputs": [],
   "source": [
    "from bs4 import BeautifulSoup \n",
    "\n",
    "import requests \n",
    "\n",
    "import csv\n",
    "\n",
    "import pandas as pd"
   ]
  },
  {
   "cell_type": "code",
   "execution_count": 5,
   "id": "4af55316",
   "metadata": {},
   "outputs": [],
   "source": [
    "url = \"https://www.flipkart.com/mobiles/pr?sid=tyy%2C4io&p%5B%5D=facets.brand%255B%255D%3DRealme&otracker=nmenu_sub_Electronics_0_Realme\""
   ]
  },
  {
   "cell_type": "code",
   "execution_count": 6,
   "id": "d7568405",
   "metadata": {},
   "outputs": [],
   "source": [
    "req=requests.get(url)"
   ]
  },
  {
   "cell_type": "code",
   "execution_count": 7,
   "id": "f2f96fd9",
   "metadata": {},
   "outputs": [],
   "source": [
    "content=BeautifulSoup(req.content,'html.parser')"
   ]
  },
  {
   "cell_type": "code",
   "execution_count": 8,
   "id": "e364b31b",
   "metadata": {},
   "outputs": [],
   "source": [
    "name=content.find_all('div',{\"class\":\"_4rR01T\"})\n",
    "price=content.find_all('div',{\"class\":\"_30jeq3 _1_WHN1\"})\n",
    "rating=content.find_all('div',{\"class\":\"_3LWZlK\"})"
   ]
  },
  {
   "cell_type": "code",
   "execution_count": 9,
   "id": "aacc3178",
   "metadata": {},
   "outputs": [],
   "source": [
    "nm=[]\n",
    "pr=[]\n",
    "rt=[]"
   ]
  },
  {
   "cell_type": "code",
   "execution_count": 10,
   "id": "11c2de8f",
   "metadata": {},
   "outputs": [],
   "source": [
    "for i in name:\n",
    "    nm.append(i.text)\n",
    "for i in price:\n",
    "    pr.append(i.text)\n",
    "for i in rating:\n",
    "    rt.append(i.text)"
   ]
  },
  {
   "cell_type": "code",
   "execution_count": 11,
   "id": "b2796590",
   "metadata": {},
   "outputs": [],
   "source": [
    "data={'NAME':nm,'PRICE':pr,'RATING':rt}\n",
    "df=pd.DataFrame(data)"
   ]
  },
  {
   "cell_type": "code",
   "execution_count": 13,
   "id": "a01a5e7a",
   "metadata": {},
   "outputs": [
    {
     "name": "stdout",
     "output_type": "stream",
     "text": [
      "                                          NAME    PRICE RATING\n",
      "0               realme C21 (Cross Blue, 64 GB)   ₹9,499    4.4\n",
      "1              realme C21 (Cross Black, 32 GB)   ₹8,499    4.4\n",
      "2              realme C21 (Cross Black, 64 GB)   ₹9,499    4.4\n",
      "3               realme C21 (Cross Blue, 32 GB)   ₹8,499    4.4\n",
      "4                realme C20 (Cool Blue, 32 GB)   ₹6,999    4.3\n",
      "5                realme C20 (Cool Grey, 32 GB)   ₹6,999    4.3\n",
      "6       realme Narzo 30 (Racing Silver, 64 GB)  ₹12,499    4.4\n",
      "7        realme Narzo 30A (Laser Black, 32 GB)   ₹8,999    4.4\n",
      "8         realme Narzo 30A (Laser Blue, 32 GB)   ₹8,999    4.4\n",
      "9        realme Narzo 30A (Laser Black, 64 GB)   ₹9,999    4.3\n",
      "10    realme Narzo 30 5G (Racing Blue, 128 GB)  ₹15,999    4.4\n",
      "11  realme Narzo 30 5G (Racing Silver, 128 GB)  ₹15,999    4.4\n",
      "12        realme Narzo 30 (Racing Blue, 64 GB)  ₹12,499    4.4\n",
      "13       realme Narzo 30 (Racing Blue, 128 GB)  ₹14,499    4.3\n",
      "14          realme C11 2021 (Cool Blue, 32 GB)   ₹6,999    4.4\n",
      "15          realme C11 2021 (Cool Grey, 32 GB)   ₹6,999    4.4\n",
      "16     realme Narzo 30 (Racing Silver, 128 GB)  ₹14,499    4.3\n",
      "17            realme C25 (Watery Grey, 128 GB)  ₹10,999    4.4\n",
      "18      realme 8 5G (Supersonic Black, 128 GB)  ₹17,499    4.3\n",
      "19        realme 8 5G (Supersonic Blue, 64 GB)  ₹14,499    4.3\n",
      "20       realme 8 5G (Supersonic Black, 64 GB)  ₹14,499    4.3\n",
      "21       realme 8 5G (Supersonic Blue, 128 GB)  ₹15,499    4.3\n",
      "22      realme 8 5G (Supersonic Black, 128 GB)  ₹15,499    4.3\n",
      "23       realme 8 5G (Supersonic Blue, 128 GB)  ₹17,499    4.3\n"
     ]
    }
   ],
   "source": [
    "print(df)"
   ]
  },
  {
   "cell_type": "code",
   "execution_count": 15,
   "id": "f2ad84ca",
   "metadata": {},
   "outputs": [],
   "source": [
    "df.to_csv('18it105_Umang Patel.csv')"
   ]
  },
  {
   "cell_type": "code",
   "execution_count": null,
   "id": "6cadb789",
   "metadata": {},
   "outputs": [],
   "source": []
  }
 ],
 "metadata": {
  "kernelspec": {
   "display_name": "Python 3",
   "language": "python",
   "name": "python3"
  },
  "language_info": {
   "codemirror_mode": {
    "name": "ipython",
    "version": 3
   },
   "file_extension": ".py",
   "mimetype": "text/x-python",
   "name": "python",
   "nbconvert_exporter": "python",
   "pygments_lexer": "ipython3",
   "version": "3.8.8"
  }
 },
 "nbformat": 4,
 "nbformat_minor": 5
}
